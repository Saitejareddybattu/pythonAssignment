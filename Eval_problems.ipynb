{
 "cells": [
  {
   "cell_type": "markdown",
   "id": "ec670bca-0784-4eec-8ebd-38a25ec08d3c",
   "metadata": {},
   "source": [
    "1-Write a Python program that accepts a string containing a mathematical expression and a dictionary of variables. The program should evaluate the expression only using the variables in the dictionary.\n",
    " expression = \"a + b * c\"\n",
    " variables = {\"a\": 4, \"b\": 2, \"c\": 3}\n",
    " output= 10"
   ]
  },
  {
   "cell_type": "code",
   "execution_count": 37,
   "id": "def6b218-cc17-448e-8861-f5fea71b24bf",
   "metadata": {},
   "outputs": [
    {
     "name": "stdin",
     "output_type": "stream",
     "text": [
      "Enter the expression a+b*c\n"
     ]
    },
    {
     "data": {
      "text/plain": [
       "10"
      ]
     },
     "execution_count": 37,
     "metadata": {},
     "output_type": "execute_result"
    }
   ],
   "source": [
    "variables = {\"a\": 4, \"b\": 2, \"c\": 3}\n",
    "User_input=input(\"Enter the expression\")\n",
    "result = eval(User_input,variables)\n",
    "result   \n"
   ]
  },
  {
   "cell_type": "markdown",
   "id": "9ed625e0-512d-40d7-9dde-e3edf7236984",
   "metadata": {},
   "source": [
    "2)Problem Statement: Write a Python program that takes a JSON string representing an inventory of items and evaluates a conditional expression. The expression will check whether certain items' quantities are above a threshold and calculate the result accordingly.\n",
    "\n",
    "Example Input:\n",
    "\n",
    "json\n",
    "\n",
    "{\n",
    "  \"item1\": 50,\n",
    "  \"item2\": 30,\n",
    "  \"item3\": 100\n",
    "}\n",
    "Expression: \"item1 if item1 > 40 else item2\"\n",
    "\n",
    "Output:\n",
    "50"
   ]
  },
  {
   "cell_type": "code",
   "execution_count": 50,
   "id": "248aa32b-09a7-4bc2-a808-00df4d4dd156",
   "metadata": {},
   "outputs": [
    {
     "name": "stdout",
     "output_type": "stream",
     "text": [
      "50\n"
     ]
    }
   ],
   "source": [
    "import json\n",
    "\n",
    "input = '{\"item1\": 50, \"item2\": 30, \"item3\": 100}'\n",
    "expression = \"item1 if item1 > 40 else item2\"\n",
    "data=json.loads(input)\n",
    "print(eval(expression,{},data))"
   ]
  },
  {
   "cell_type": "markdown",
   "id": "309638b8-8ff0-4431-8c28-5cd0cf69c07d",
   "metadata": {},
   "source": [
    "3) You are given a list of dictionaries where each dictionary represents a product with its name and price. Write a program that:\n",
    "\n",
    "Creates a lambda function to apply a discount of 10% to the price of each product.\n",
    "Use eval() to evaluate an expression that applies this lambda function to the product list.\n",
    "Output the list of products with the updated prices after applying the discount.\n",
    "Example Input:\n",
    "\n",
    "json\n",
    "\n",
    "[\n",
    "    {\"name\": \"apple\", \"price\": 30},\n",
    "    {\"name\": \"banana\", \"price\": 20},\n",
    "    {\"name\": \"cherry\", \"price\": 50}\n",
    "]\n",
    "Expression: \"list(map(lambda x: {'name': x['name'], 'price': round(x['price'] * 0.9, 2)}, products))\"\n",
    "\n",
    "Expected Output:\n",
    "\n",
    "json\n",
    "[\n",
    "    {\"name\": \"apple\", \"price\": 27.0},\n",
    "    {\"name\": \"banana\", \"price\": 18.0},\n",
    "    {\"name\": \"cherry\", \"price\": 45.0}\n",
    "]"
   ]
  },
  {
   "cell_type": "code",
   "execution_count": null,
   "id": "821e781a-5bfd-4693-a3c8-76d9365d3b53",
   "metadata": {},
   "outputs": [],
   "source": [
    "import json\n",
    "\n",
    "input = '''[\n",
    "    {\"name\": \"apple\", \"price\": 30},\n",
    "    {\"name\": \"banana\", \"price\": 20},\n",
    "    {\"name\": \"cherry\", \"price\": 50}\n",
    "]'''\n",
    "data=eval(input)\n",
    "expression = \"list(map(lambda x: {'name': x['name'], 'price': round(x['price'] * 0.9, 2)}, data))\"\n",
    "\n",
    "print(data)\n",
    "#print(eval(expression,{},data))\n",
    "for i in data:\n",
    "    print(eval(expression,{},i))"
   ]
  },
  {
   "cell_type": "markdown",
   "id": "4f4926ca-3e20-488c-8cd5-988349ac363e",
   "metadata": {},
   "source": [
    "4) Objective: You are given a Python class with a method that needs to be updated dynamically (i.e., monkey patched) to alter its behavior. Write a Python program that demonstrates how to use monkey patching to change the method of a class at runtime.\n",
    "\n",
    "Problem Statement:\n",
    "You have a Car class with a method start_engine() that prints a simple message: \"Engine started!\". Your task is to:\n",
    "\n",
    "Dynamically modify the start_engine() method to print \"Engine started with a roar!\" instead of the original message.\n",
    "Use monkey patching to change the behavior of start_engine() at runtime.\n",
    "\n",
    "Class Definition:\n",
    "python:- \n",
    "\n",
    "class Car:\n",
    "    def start_engine(self):\n",
    "        print(\"Engine started!\")\n",
    "\n",
    "Expected Output:\n",
    "\n",
    "### Before patching\n",
    "car = Car()\n",
    "car.start_engine()\n",
    "### Output: Engine started!\n",
    "\n",
    "### After patching\n",
    "car.start_engine()\n",
    "### Output: Engine started with a roar!"
   ]
  },
  {
   "cell_type": "code",
   "execution_count": 60,
   "id": "d442a1f4-addb-4bed-adbb-d1117a7952bc",
   "metadata": {},
   "outputs": [
    {
     "name": "stdout",
     "output_type": "stream",
     "text": [
      "Engine started!\n",
      "Started with a roar\n"
     ]
    }
   ],
   "source": [
    "class Car:\n",
    "    def start_engine(self):\n",
    "        print(\"Engine started!\")\n",
    "\n",
    "car=Car()\n",
    "car.start_engine()\n",
    "\n",
    "def Started_roar():\n",
    "    print('Started with a roar')\n",
    "\n",
    "car.start_engine=Started_roar()\n",
    "car.start_engine"
   ]
  },
  {
   "cell_type": "code",
   "execution_count": null,
   "id": "26745048-1957-4639-84bc-c77f85aa0e37",
   "metadata": {},
   "outputs": [],
   "source": []
  }
 ],
 "metadata": {
  "kernelspec": {
   "display_name": "Python 3 (ipykernel)",
   "language": "python",
   "name": "python3"
  },
  "language_info": {
   "codemirror_mode": {
    "name": "ipython",
    "version": 3
   },
   "file_extension": ".py",
   "mimetype": "text/x-python",
   "name": "python",
   "nbconvert_exporter": "python",
   "pygments_lexer": "ipython3",
   "version": "3.12.4"
  }
 },
 "nbformat": 4,
 "nbformat_minor": 5
}
